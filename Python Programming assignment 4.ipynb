{
 "cells": [
  {
   "cell_type": "raw",
   "id": "8f097ea3",
   "metadata": {},
   "source": [
    "1. Write a Python Program to Find the Factorial of a Number?"
   ]
  },
  {
   "cell_type": "code",
   "execution_count": 2,
   "id": "9742f2a0",
   "metadata": {},
   "outputs": [
    {
     "name": "stdout",
     "output_type": "stream",
     "text": [
      "enter a number: 17\n",
      "The factorial of 17 is 355687428096000\n"
     ]
    }
   ],
   "source": [
    "def factorial (num):\n",
    "    if(num < 1):\n",
    "        return 1\n",
    "    \n",
    "    else:\n",
    "        return num * factorial(num-1)\n",
    "\n",
    "num = int(input(\"enter a number: \"))\n",
    "value = factorial(num)\n",
    "print(f'The factorial of {num} is {value}')"
   ]
  },
  {
   "cell_type": "code",
   "execution_count": null,
   "id": "c9022554",
   "metadata": {},
   "outputs": [],
   "source": []
  },
  {
   "cell_type": "code",
   "execution_count": null,
   "id": "9d23718f",
   "metadata": {},
   "outputs": [],
   "source": []
  },
  {
   "cell_type": "raw",
   "id": "aeec0a57",
   "metadata": {},
   "source": [
    "2. Write a Python Program to Display the multiplication Table?"
   ]
  },
  {
   "cell_type": "code",
   "execution_count": 3,
   "id": "ad6d57cb",
   "metadata": {},
   "outputs": [
    {
     "name": "stdout",
     "output_type": "stream",
     "text": [
      "Enter a number: 23\n",
      "enter no of entries:10\n",
      "23 X 1= 23\n",
      "23 X 2= 46\n",
      "23 X 3= 69\n",
      "23 X 4= 92\n",
      "23 X 5= 115\n",
      "23 X 6= 138\n",
      "23 X 7= 161\n",
      "23 X 8= 184\n",
      "23 X 9= 207\n",
      "23 X 10= 230\n"
     ]
    }
   ],
   "source": [
    "def generateTable(base,enteries):\n",
    "    for x in range(1,enteries + 1):\n",
    "        print(f'{base} X {x}= {base*x}')\n",
    "        \n",
    "num = int(input('Enter a number: '))\n",
    "values = int(input('enter no of entries:'))\n",
    "generateTable(num,values)"
   ]
  },
  {
   "cell_type": "code",
   "execution_count": null,
   "id": "52d9e2a8",
   "metadata": {},
   "outputs": [],
   "source": []
  },
  {
   "cell_type": "code",
   "execution_count": null,
   "id": "e46a37d7",
   "metadata": {},
   "outputs": [],
   "source": []
  },
  {
   "cell_type": "raw",
   "id": "9086ef67",
   "metadata": {},
   "source": [
    "3. Write a Python Program to Print the Fibonacci sequence?"
   ]
  },
  {
   "cell_type": "code",
   "execution_count": 6,
   "id": "f62508cd",
   "metadata": {},
   "outputs": [
    {
     "name": "stdout",
     "output_type": "stream",
     "text": [
      "enter the  no of fibonacci sequence you want? 12\n",
      "the first12fibonacci series are:  [0, 1]\n",
      "the first12fibonacci series are:  [0, 1]\n",
      "the first12fibonacci series are:  [0, 1, 1]\n",
      "the first12fibonacci series are:  [0, 1, 1, 2]\n",
      "the first12fibonacci series are:  [0, 1, 1, 2, 3]\n",
      "the first12fibonacci series are:  [0, 1, 1, 2, 3, 5]\n",
      "the first12fibonacci series are:  [0, 1, 1, 2, 3, 5, 8]\n",
      "the first12fibonacci series are:  [0, 1, 1, 2, 3, 5, 8, 13]\n",
      "the first12fibonacci series are:  [0, 1, 1, 2, 3, 5, 8, 13, 21]\n",
      "the first12fibonacci series are:  [0, 1, 1, 2, 3, 5, 8, 13, 21, 34]\n",
      "the first12fibonacci series are:  [0, 1, 1, 2, 3, 5, 8, 13, 21, 34, 55]\n",
      "the first12fibonacci series are:  [0, 1, 1, 2, 3, 5, 8, 13, 21, 34, 55, 89]\n"
     ]
    }
   ],
   "source": [
    "s_count = int (input(\"enter the  no of fibonacci sequence you want? \"))\n",
    "initial_list = [0,1]\n",
    "if s_count < 0:\n",
    "    print('Fibonacci numbers are not available for negative numbers')\n",
    "    \n",
    "elif s_count <=2 and s_count >= 0:\n",
    "    print(initial_list)\n",
    "    \n",
    "else:\n",
    "    for ins in range(s_count):\n",
    "        if ins >= 2:\n",
    "            initial_list.append(initial_list[ins-1]+initial_list[ins-2])\n",
    "            \n",
    "        print(f'the first{s_count}fibonacci series are: ',initial_list)"
   ]
  },
  {
   "cell_type": "code",
   "execution_count": null,
   "id": "7acfd254",
   "metadata": {},
   "outputs": [],
   "source": []
  },
  {
   "cell_type": "code",
   "execution_count": null,
   "id": "680ad888",
   "metadata": {},
   "outputs": [],
   "source": []
  },
  {
   "cell_type": "raw",
   "id": "6206e84f",
   "metadata": {},
   "source": [
    "4. Write a Python Program to Check Armstrong Number?"
   ]
  },
  {
   "cell_type": "code",
   "execution_count": 1,
   "id": "7c74ee98",
   "metadata": {},
   "outputs": [
    {
     "name": "stdout",
     "output_type": "stream",
     "text": [
      "enter a number: 100\n",
      "100is a not Armstrong number\n",
      "enter a number: 10\n",
      "10is a not Armstrong number\n"
     ]
    }
   ],
   "source": [
    "def checkArmstrongNumber():\n",
    "    in_num = input('enter a number: ')\n",
    "    sum = 0\n",
    "    for char in range(len(in_num)):\n",
    "        sum = sum + pow(int(in_num[char]),3)\n",
    "    if sum ==int(in_num):\n",
    "        print(f'{in_num}is a Armstrong number')\n",
    "    else:\n",
    "        print(f'{in_num}is a not Armstrong number')\n",
    "        \n",
    "for x in range(2):\n",
    "    checkArmstrongNumber()"
   ]
  },
  {
   "cell_type": "code",
   "execution_count": null,
   "id": "e115a491",
   "metadata": {},
   "outputs": [],
   "source": []
  },
  {
   "cell_type": "code",
   "execution_count": null,
   "id": "02d8e1df",
   "metadata": {},
   "outputs": [],
   "source": []
  },
  {
   "cell_type": "raw",
   "id": "f42f78c4",
   "metadata": {},
   "source": [
    "5. Write a Python Program to Find Armstrong Number in an Interval?"
   ]
  },
  {
   "cell_type": "code",
   "execution_count": null,
   "id": "75ffd585",
   "metadata": {},
   "outputs": [
    {
     "name": "stdout",
     "output_type": "stream",
     "text": [
      "Enter the Start of the Interval: 12\n"
     ]
    }
   ],
   "source": [
    "def checkArmstrongNumber(in_num, storage):\n",
    "    sum = 0\n",
    "    for char in range(len(in_num)):\n",
    "        sum = sum + pow(int(in_num[char]),3)\n",
    "    if sum == int(in_num):\n",
    "        storage.append(int(in_num))\n",
    "\n",
    "start_interval = int(input('Enter the Start of the Interval: '))\n",
    "end_interval = int(input('Enter the End of the Interval: '))\n",
    "list_of_armstrong = []\n",
    "\n",
    "if start_interval > end_interval:\n",
    "    print(\"Start Interval Cannot be Greater than End Interval\")\n",
    "else:\n",
    "    for number in range(start_interval,end_interval+1):\n",
    "        checkArmstrongNumber(str(number),list_of_armstrong)\n",
    "    print(f'The Armstrong numbers between {start_interval} and {end_interval} are {list_of_armstrong}')\n"
   ]
  },
  {
   "cell_type": "code",
   "execution_count": null,
   "id": "5c95fc6c",
   "metadata": {},
   "outputs": [],
   "source": []
  },
  {
   "cell_type": "code",
   "execution_count": null,
   "id": "2ec91dfe",
   "metadata": {},
   "outputs": [],
   "source": []
  },
  {
   "cell_type": "raw",
   "id": "aff09940",
   "metadata": {},
   "source": [
    "6. Write a Python Program to Find the Sum of Natural Numbers?"
   ]
  },
  {
   "cell_type": "code",
   "execution_count": 4,
   "id": "f363134a",
   "metadata": {},
   "outputs": [
    {
     "name": "stdout",
     "output_type": "stream",
     "text": [
      "enter a number:2023\n",
      "sum of 2023natural numbers is 2047276.0\n"
     ]
    }
   ],
   "source": [
    "def sumofnaturalnumbers(num):\n",
    "    sum = num*((num+1)/2)\n",
    "    print(f'sum of {num}natural numbers is {sum}')\n",
    "    \n",
    "num = int(input('enter a number:'))\n",
    "sumofnaturalnumbers(num)"
   ]
  },
  {
   "cell_type": "code",
   "execution_count": null,
   "id": "24482e2b",
   "metadata": {},
   "outputs": [],
   "source": []
  },
  {
   "cell_type": "code",
   "execution_count": null,
   "id": "19734afd",
   "metadata": {},
   "outputs": [],
   "source": []
  }
 ],
 "metadata": {
  "kernelspec": {
   "display_name": "Python 3",
   "language": "python",
   "name": "python3"
  },
  "language_info": {
   "codemirror_mode": {
    "name": "ipython",
    "version": 3
   },
   "file_extension": ".py",
   "mimetype": "text/x-python",
   "name": "python",
   "nbconvert_exporter": "python",
   "pygments_lexer": "ipython3",
   "version": "3.8.8"
  }
 },
 "nbformat": 4,
 "nbformat_minor": 5
}
